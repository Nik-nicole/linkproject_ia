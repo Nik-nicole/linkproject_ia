{
 "cells": [
  {
   "cell_type": "markdown",
   "metadata": {},
   "source": [
    "# Comprobar que el pc tiene GPU"
   ]
  },
  {
   "cell_type": "code",
   "execution_count": 2,
   "metadata": {},
   "outputs": [
    {
     "name": "stdout",
     "output_type": "stream",
     "text": [
      "Thu Aug  8 16:35:09 2024       \n",
      "+---------------------------------------------------------------------------------------+\n",
      "| NVIDIA-SMI 535.183.01             Driver Version: 535.183.01   CUDA Version: 12.2     |\n",
      "|-----------------------------------------+----------------------+----------------------+\n",
      "| GPU  Name                 Persistence-M | Bus-Id        Disp.A | Volatile Uncorr. ECC |\n",
      "| Fan  Temp   Perf          Pwr:Usage/Cap |         Memory-Usage | GPU-Util  Compute M. |\n",
      "|                                         |                      |               MIG M. |\n",
      "|=========================================+======================+======================|\n",
      "|   0  NVIDIA T1000 8GB               Off | 00000000:61:00.0  On |                  N/A |\n",
      "| 35%   48C    P0              N/A /  50W |    590MiB /  8192MiB |      4%      Default |\n",
      "|                                         |                      |                  N/A |\n",
      "+-----------------------------------------+----------------------+----------------------+\n",
      "                                                                                         \n",
      "+---------------------------------------------------------------------------------------+\n",
      "| Processes:                                                                            |\n",
      "|  GPU   GI   CI        PID   Type   Process name                            GPU Memory |\n",
      "|        ID   ID                                                             Usage      |\n",
      "|=======================================================================================|\n",
      "|    0   N/A  N/A      1683      G   /usr/lib/xorg/Xorg                          195MiB |\n",
      "|    0   N/A  N/A      1857      G   /usr/bin/gnome-shell                         41MiB |\n",
      "|    0   N/A  N/A      2569      G   ...irefox/4650/usr/lib/firefox/firefox      159MiB |\n",
      "|    0   N/A  N/A     20841      G   ...nglingPtr --variations-seed-version       72MiB |\n",
      "|    0   N/A  N/A     32065      G   ...erProcess --variations-seed-version       92MiB |\n",
      "+---------------------------------------------------------------------------------------+\n"
     ]
    }
   ],
   "source": [
    "!nvidia-smi"
   ]
  },
  {
   "cell_type": "markdown",
   "metadata": {},
   "source": [
    "# Actualizar PIP (Si es necesario)"
   ]
  },
  {
   "cell_type": "code",
   "execution_count": 3,
   "metadata": {},
   "outputs": [],
   "source": [
    "%pip install --upgrade pip"
   ]
  },
  {
   "cell_type": "code",
   "execution_count": 4,
   "metadata": {},
   "source": [
    "# Insatalar TensorFlow con cuda para acceso a la GPU"
   ]
  },
  {
   "cell_type": "code",
   "execution_count": 5,
   "metadata": {},
   "outputs": [
    {
     "name": "stdout",
     "output_type": "stream",
     "text": [
      "2024-08-08 16:35:11.393911: E external/local_xla/xla/stream_executor/cuda/cuda_fft.cc:485] Unable to register cuFFT factory: Attempting to register factory for plugin cuFFT when one has already been registered\n",
      "2024-08-08 16:35:11.404627: E external/local_xla/xla/stream_executor/cuda/cuda_dnn.cc:8454] Unable to register cuDNN factory: Attempting to register factory for plugin cuDNN when one has already been registered\n",
      "2024-08-08 16:35:11.407860: E external/local_xla/xla/stream_executor/cuda/cuda_blas.cc:1452] Unable to register cuBLAS factory: Attempting to register factory for plugin cuBLAS when one has already been registered\n",
      "2024-08-08 16:35:11.961917: W tensorflow/compiler/tf2tensorrt/utils/py_utils.cc:38] TF-TRT Warning: Could not find TensorRT\n",
      "WARNING: All log messages before absl::InitializeLog() is called are written to STDERR\n",
      "I0000 00:00:1723152912.570416   81922 cuda_executor.cc:1015] successful NUMA node read from SysFS had negative value (-1), but there must be at least one NUMA node, so returning NUMA node zero. See more at https://github.com/torvalds/linux/blob/v6.0/Documentation/ABI/testing/sysfs-bus-pci#L344-L355\n",
      "I0000 00:00:1723152912.601308   81922 cuda_executor.cc:1015] successful NUMA node read from SysFS had negative value (-1), but there must be at least one NUMA node, so returning NUMA node zero. See more at https://github.com/torvalds/linux/blob/v6.0/Documentation/ABI/testing/sysfs-bus-pci#L344-L355\n",
      "I0000 00:00:1723152912.601530   81922 cuda_executor.cc:1015] successful NUMA node read from SysFS had negative value (-1), but there must be at least one NUMA node, so returning NUMA node zero. See more at https://github.com/torvalds/linux/blob/v6.0/Documentation/ABI/testing/sysfs-bus-pci#L344-L355\n",
      "[PhysicalDevice(name='/physical_device:GPU:0', device_type='GPU')]\n"
     ]
    }
   ],
   "source": [
    "%pip install 'tensorflow[and-cuda] ' mediapipe"
   ]
  },
  {
   "cell_type": "code",
   "execution_count": 6,
   "metadata": {},
   "outputs": [],
   "source": [
    "import tensorflow as tf\n",
    "\n",
    "print(tf.config.list_physical_devices(\"GPU\"))"
   ]
  },
  {
   "cell_type": "markdown",
   "metadata": {},
   "source": [
    "# Importar todas las dependecias"
   ]
  },
  {
   "cell_type": "code",
   "execution_count": 7,
   "metadata": {},
   "outputs": [],
   "source": [
    "import cv2\n",
    "import mediapipe as mp\n",
    "import matplotlib.pyplot as plt\n",
    "from tensorflow.keras.layers import Dense  \n",
    "import numpy as np\n",
    "from tensorflow.keras.models import Sequential  \n",
    "from tensorflow.keras.losses import sparse_categorical_crossentropy  \n",
    "import os"
   ]
  },
  {
   "cell_type": "markdown",
   "metadata": {},
   "source": [
    "# Uso de mediapipe para dibujar los puntos "
   ]
  },
  {
   "cell_type": "code",
   "execution_count": 8,
   "metadata": {},
   "outputs": [],
   "source": [
    "mp_holistic = mp.solutions.holistic  # Holistic model\n",
    "mp_drawing = mp.solutions.drawing_utils  # Drawing utilities"
   ]
  },
  {
   "cell_type": "code",
   "execution_count": 9,
   "metadata": {},
   "outputs": [],
   "source": [
    "def mediapipe_detection(image, model):\n",
    "    image = cv2.cvtColor(image, cv2.COLOR_BGR2RGB)  # COLOR CONVERSION BGR 2 RGB\n",
    "    image.flags.writeable = False  # Image is no longer writeable\n",
    "    results = model.process(image)  # Make prediction\n",
    "    image.flags.writeable = True  # Image is now writeable\n",
    "    image = cv2.cvtColor(image, cv2.COLOR_RGB2BGR)  # COLOR COVERSION RGB 2 BGR\n",
    "    return image, results"
   ]
  },
  {
   "cell_type": "markdown",
   "metadata": {},
   "source": [
    "Auqui se realiza el dibujo de cada clase,  para ver en vivo cuando se haga la prueba la barrra  superior ."
   ]
  },
  {
   "cell_type": "code",
   "execution_count": 10,
   "metadata": {},
   "outputs": [],
   "source": [
    "colors = [\n",
    "    (245, 117, 16),\n",
    "    (117, 245, 16),\n",
    "    (16, 117, 245),\n",
    "    (16, 117, 245),\n",
    "    (16, 117, 245),\n",
    "    (16, 117, 245),\n",
    "    (16, 117, 245),\n",
    "    (16, 117, 245),\n",
    "    (16, 117, 245),\n",
    "    (16, 117, 245),\n",
    "]\n",
    "\n",
    "\n",
    "def prob_viz(res, actions, input_frame, colors):\n",
    "    output_frame = input_frame.copy()\n",
    "    for num, prob in enumerate(res):\n",
    "        cv2.rectangle(\n",
    "            output_frame,\n",
    "            (0, 60 + num * 40),\n",
    "            (int(prob * 100), 90 + num * 40),\n",
    "            colors[num],\n",
    "            -1,\n",
    "        )\n",
    "        cv2.putText(\n",
    "            output_frame,\n",
    "            actions[num],\n",
    "            (0, 85 + num * 40),\n",
    "            cv2.FONT_HERSHEY_SIMPLEX,\n",
    "            1,\n",
    "            (255, 255, 255),\n",
    "            2,\n",
    "            cv2.LINE_AA,\n",
    "        )\n",
    "\n",
    "    return output_frame"
   ]
  },
  {
   "cell_type": "markdown",
   "metadata": {},
   "source": [
    "dibujo de , face, pose, left hand and right hand."
   ]
  },
  {
   "cell_type": "code",
   "execution_count": 11,
   "metadata": {},
   "outputs": [],
   "source": [
    "def draw_landmarks(image, results):\n",
    "    mp_drawing.draw_landmarks(\n",
    "        image, results.face_landmarks, mp_holistic.FACEMESH_TESSELATION\n",
    "    )  # Draw face connections\n",
    "    mp_drawing.draw_landmarks(\n",
    "        image, results.pose_landmarks, mp_holistic.POSE_CONNECTIONS\n",
    "    )  # Draw pose connections\n",
    "    mp_drawing.draw_landmarks(\n",
    "        image, results.left_hand_landmarks, mp_holistic.HAND_CONNECTIONS\n",
    "    )  # Draw left hand connections\n",
    "    mp_drawing.draw_landmarks(\n",
    "        image, results.right_hand_landmarks, mp_holistic.HAND_CONNECTIONS\n",
    "    )  # Draw right hand connections"
   ]
  },
  {
   "cell_type": "code",
   "execution_count": 12,
   "metadata": {},
   "outputs": [],
   "source": [
    "def draw_styled_landmarks(image, results):\n",
    "    # Draw face connections\n",
    "    mp_drawing.draw_landmarks(\n",
    "        image,\n",
    "        results.face_landmarks,\n",
    "        mp_holistic.FACEMESH_TESSELATION,\n",
    "        mp_drawing.DrawingSpec(color=(80, 110, 10), thickness=1, circle_radius=1),\n",
    "        mp_drawing.DrawingSpec(color=(80, 256, 121), thickness=1, circle_radius=1),\n",
    "    )\n",
    "    # Draw pose connections\n",
    "    mp_drawing.draw_landmarks(\n",
    "        image,\n",
    "        results.pose_landmarks,\n",
    "        mp_holistic.POSE_CONNECTIONS,\n",
    "        mp_drawing.DrawingSpec(color=(80, 22, 10), thickness=2, circle_radius=4),\n",
    "        mp_drawing.DrawingSpec(color=(80, 44, 121), thickness=2, circle_radius=2),\n",
    "    )\n",
    "    # Draw left hand connections\n",
    "    mp_drawing.draw_landmarks(\n",
    "        image,\n",
    "        results.left_hand_landmarks,\n",
    "        mp_holistic.HAND_CONNECTIONS,\n",
    "        mp_drawing.DrawingSpec(color=(121, 22, 76), thickness=2, circle_radius=4),\n",
    "        mp_drawing.DrawingSpec(color=(121, 44, 250), thickness=2, circle_radius=2),\n",
    "    )\n",
    "    # Draw right hand connections\n",
    "    mp_drawing.draw_landmarks(\n",
    "        image,\n",
    "        results.right_hand_landmarks,\n",
    "        mp_holistic.HAND_CONNECTIONS,\n",
    "        mp_drawing.DrawingSpec(color=(245, 117, 66), thickness=2, circle_radius=4),\n",
    "        mp_drawing.DrawingSpec(color=(245, 66, 230), thickness=2, circle_radius=2),\n",
    "    )"
   ]
  },
  {
   "cell_type": "markdown",
   "metadata": {},
   "source": [
    "Extraccion de puntos, en results . X y Y "
   ]
  },
  {
   "cell_type": "code",
   "execution_count": 13,
   "metadata": {},
   "outputs": [],
   "source": [
    "def extract_keypoints(results):\n",
    "    pose = (\n",
    "        np.array(\n",
    "            [\n",
    "                [res.x, res.y, res.z, res.visibility]\n",
    "                for res in results.pose_landmarks.landmark\n",
    "            ]\n",
    "        ).flatten()\n",
    "        if results.pose_landmarks\n",
    "        else np.zeros(33 * 4)\n",
    "    )\n",
    "    face = (\n",
    "        np.array(\n",
    "            [[res.x, res.y, res.z] for res in results.face_landmarks.landmark]\n",
    "        ).flatten()\n",
    "        if results.face_landmarks\n",
    "        else np.zeros(468 * 3)\n",
    "    )\n",
    "    lh = (\n",
    "        np.array(\n",
    "            [[res.x, res.y, res.z] for res in results.left_hand_landmarks.landmark]\n",
    "        ).flatten()\n",
    "        if results.left_hand_landmarks\n",
    "        else np.zeros(21 * 3)\n",
    "    )\n",
    "    rh = (\n",
    "        np.array(\n",
    "            [[res.x, res.y, res.z] for res in results.right_hand_landmarks.landmark]\n",
    "        ).flatten()\n",
    "        if results.right_hand_landmarks\n",
    "        else np.zeros(21 * 3)\n",
    "    )\n",
    "    return np.concatenate([pose, face, lh, rh])"
   ]
  },
  {
   "cell_type": "markdown",
   "metadata": {},
   "source": [
    "# Creacion de las carpetas "
   ]
  },
  {
   "cell_type": "code",
   "execution_count": 14,
   "metadata": {},
   "outputs": [],
   "source": [
    "# variable de la carpeta general\n",
    "DATA_PATH = os.path.join(\"D_CORTO\")\n",
    "# variable de las clases\n",
    "actions = np.array([\"manzana\", \"coco\"])\n",
    "# variable de las secuencias que se van a ver como subcarpetas\n",
    "no_sequences = 2\n",
    "# Secuencia de frames o fotos , que se van  guardar en las subcarpetas de las clases\n",
    "sequence_length = 4"
   ]
  },
  {
   "cell_type": "code",
   "execution_count": 15,
   "metadata": {},
   "outputs": [
    {
     "name": "stdout",
     "output_type": "stream",
     "text": [
      "['manzana' 'coco']\n"
     ]
    }
   ],
   "source": [
    "print(actions)"
   ]
  },
  {
   "cell_type": "markdown",
   "metadata": {},
   "source": [
    "Se crea la carpeta donde seran guardados los frames de cadad video\n",
    "    "
   ]
  },
  {
   "cell_type": "code",
   "execution_count": 16,
   "metadata": {},
   "outputs": [],
   "source": [
    "for action in actions:\n",
    "    for sequence in range(no_sequences):\n",
    "        try:\n",
    "            os.makedirs(os.path.join(DATA_PATH, action, str(sequence)))\n",
    "        except:\n",
    "            pass"
   ]
  },
  {
   "cell_type": "markdown",
   "metadata": {},
   "source": [
    "Captura de los frames, en este caso fotos de la seña que sean importante (4 frames) "
   ]
  },
  {
   "cell_type": "code",
   "execution_count": 17,
   "metadata": {},
   "outputs": [
    {
     "ename": "SyntaxError",
     "evalue": "invalid syntax (2759743978.py, line 4)",
     "output_type": "error",
     "traceback": [
      "\u001b[0;36m  Cell \u001b[0;32mIn[11], line 4\u001b[0;36m\u001b[0m\n\u001b[0;31m    if key ==\u001b[0m\n\u001b[0m              ^\u001b[0m\n\u001b[0;31mSyntaxError\u001b[0m\u001b[0;31m:\u001b[0m invalid syntax\n"
     ]
    }
   ],
   "source": [
    "# import cv2\n",
    "# import os\n",
    "# import numpy as np\n",
    "# import mediapipe as mp\n",
    "\n",
    "\n",
    "# # Inicializar la captura de video\n",
    "# cap = cv2.VideoCapture(0)\n",
    "# photo_count = {action: {str(sequence): 0 for sequence in range(no_sequences)} for action in actions}\n",
    "\n",
    "\n",
    "# print(\"Presiona 'd' para tomar una foto. Presiona 'q' para salir.\")\n",
    "\n",
    "# with mp_holistic.Holistic(min_detection_confidence=0.5, min_tracking_confidence=0.5) as holistic:\n",
    "#     while True:\n",
    "#         ret, frame = cap.read()\n",
    "#         if not ret:\n",
    "#             break\n",
    "\n",
    "#         # Hacer las detecciones y dibujar los puntos clave\n",
    "#         image, results = mediapipe_detection(frame, holistic)\n",
    "#         draw_styled_landmarks(image, results)\n",
    "\n",
    "#         # Mostrar el video en una ventana\n",
    "#         cv2.imshow('Video', image)\n",
    "\n",
    "#         # Esperar a que se presione una tecla\n",
    "#         key = cv2.waitKey(1) & 0xFF\n",
    "\n",
    "#         if key == ord('q'):\n",
    "#             break\n",
    "#         elif key == ord('d'):\n",
    "#              for action in actions:\n",
    "#                 # Loop through sequences aka videos\n",
    "#                 for sequence in range(no_sequences):#start_folder, start_folder+no_sequences):\n",
    "#                     # Loop through video length aka sequence length\n",
    "#                     for frame_num in range(sequence_length):\n",
    "\n",
    "#                         # Read feed\n",
    "#                         ret, frame = cap.read()\n",
    "                                                        \n",
    "#                         # Make detections\n",
    "#                         image, results = mediapipe_detection(frame, holistic)\n",
    "\n",
    "#                         # Draw landmarks\n",
    "#                         draw_styled_landmarks(image, results)\n",
    "                        \n",
    "#                         # NEW Apply wait logic\n",
    "#                         if frame_num == 0: \n",
    "#                             cv2.putText(image, 'STARTING COLLECTION', (120,200), \n",
    "#                                     cv2.FONT_HERSHEY_SIMPLEX, 1, (0,255, 0), 4, cv2.LINE_AA)\n",
    "#                             cv2.putText(image, 'Collecting frames for {} Video Number {}'.format(action, sequence), (15,12), \n",
    "#                                     cv2.FONT_HERSHEY_SIMPLEX, 0.5, (0, 0, 255), 1, cv2.LINE_AA)\n",
    "#                             # Show to screen\n",
    "#                             cv2.imshow('OpenCV Feed', image)\n",
    "#                             cv2.waitKey(500)\n",
    "#                         else: \n",
    "#                             cv2.putText(image, 'Collecting frames for {} Video Number {}'.format(action, sequence), (15,12), \n",
    "#                                     cv2.FONT_HERSHEY_SIMPLEX, 0.5, (0, 0, 255), 1, cv2.LINE_AA)\n",
    "#                             # Show to screen\n",
    "#                             cv2.imshow('OpenCV Feed', image)\n",
    "                        \n",
    "#                         # NEW Export keypoints\n",
    "#                         keypoints = extract_keypoints(results)\n",
    "#                         npy_path = os.path.join(DATA_PATH, action, str(sequence), str(frame_num))\n",
    "#                         np.save(npy_path, keypoints)\n",
    "#                     # Show to screen\n",
    "#                         cv2.imshow('OpenCV Feed', image)\n",
    "#                         cv2.waitKey(500)\n",
    "#                         photo_filename = f'{photo_count[action][str(sequence)]}.jpg'\n",
    "#                         photo_path = os.path.join(DATA_PATH, action, str(sequence), photo_filename)\n",
    "#                         cv2.imwrite(photo_path, image)\n",
    "#                         photo_count[action][str(sequence)] += 1\n",
    "#                         print(f'Foto guardada: {photo_path}')\n",
    "\n",
    "#                         # Extraer y guardar los puntos clave\n",
    "#                         keypoints = extract_keypoints(results)\n",
    "#                         npy_path = os.path.join(DATA_PATH, action, str(sequence), f'{photo_count[action][str(sequence)] - 1}.npy')\n",
    "#                         np.save(npy_path, keypoints)\n",
    "#                         print(f'Puntos clave guardados: {npy_path}')\n",
    "#                         break\n",
    "\n",
    "\n",
    "# cap.release()\n",
    "# cv2.destroyAllWindows()\n"
   ]
  },
  {
   "cell_type": "code",
   "execution_count": 29,
   "metadata": {},
   "outputs": [
    {
     "name": "stdout",
     "output_type": "stream",
     "text": [
      "Presiona 'd' para tomar una foto. Presiona 'q' para salir.\n"
     ]
    },
    {
     "name": "stderr",
     "output_type": "stream",
     "text": [
      "I0000 00:00:1723155658.455949   81785 gl_context_egl.cc:85] Successfully initialized EGL. Major : 1 Minor: 5\n",
      "I0000 00:00:1723155658.481645   87456 gl_context.cc:357] GL version: 3.2 (OpenGL ES 3.2 NVIDIA 535.183.01), renderer: NVIDIA T1000 8GB/PCIe/SSE2\n",
      "W0000 00:00:1723155658.535487   87437 inference_feedback_manager.cc:114] Feedback manager requires a model with a single signature inference. Disabling support for feedback tensors.\n",
      "W0000 00:00:1723155658.551148   87432 inference_feedback_manager.cc:114] Feedback manager requires a model with a single signature inference. Disabling support for feedback tensors.\n",
      "W0000 00:00:1723155658.552080   87433 inference_feedback_manager.cc:114] Feedback manager requires a model with a single signature inference. Disabling support for feedback tensors.\n",
      "W0000 00:00:1723155658.552080   87447 inference_feedback_manager.cc:114] Feedback manager requires a model with a single signature inference. Disabling support for feedback tensors.\n",
      "W0000 00:00:1723155658.552558   87445 inference_feedback_manager.cc:114] Feedback manager requires a model with a single signature inference. Disabling support for feedback tensors.\n",
      "W0000 00:00:1723155658.555107   87439 inference_feedback_manager.cc:114] Feedback manager requires a model with a single signature inference. Disabling support for feedback tensors.\n",
      "W0000 00:00:1723155658.562068   87449 inference_feedback_manager.cc:114] Feedback manager requires a model with a single signature inference. Disabling support for feedback tensors.\n",
      "W0000 00:00:1723155658.566718   87442 inference_feedback_manager.cc:114] Feedback manager requires a model with a single signature inference. Disabling support for feedback tensors.\n"
     ]
    }
   ],
   "source": [
    "import cv2\n",
    "import os\n",
    "import numpy as np\n",
    "import mediapipe as mp\n",
    "\n",
    "# Inicializar la captura de video\n",
    "cap = cv2.VideoCapture(0)\n",
    "\n",
    "# Variables de configuración\n",
    "actions = ['coco', 'manzana']  # Lista de frutas\n",
    "subfolders = [str(i) for i in range(2)]  # Subcarpetas numeradas de 0 a 1\n",
    "sequence_length = 4  # Número de fotos por secuencia\n",
    "\n",
    "# Crear un diccionario para contar las fotos tomadas en cada secuencia\n",
    "photo_count = {action: {subfolder: 0 for subfolder in subfolders} for action in actions}\n",
    "action_index = 0  # Índice para la fruta actual\n",
    "subfolder_index = 0  # Índice para la subcarpeta actual\n",
    "countdown = sequence_length  # Contador inicial para las fotos\n",
    "\n",
    "print(\"Presiona 'd' para tomar una foto. Presiona 'q' para salir.\")\n",
    "\n",
    "with mp.solutions.holistic.Holistic(min_detection_confidence=0.5, min_tracking_confidence=0.5) as holistic:\n",
    "    while True:\n",
    "        ret, frame = cap.read()\n",
    "        if not ret:\n",
    "            break\n",
    "\n",
    "        # Hacer las detecciones y dibujar los puntos clave\n",
    "        image, results = mediapipe_detection(frame, holistic)\n",
    "        draw_styled_landmarks(image, results)\n",
    "\n",
    "        # Mostrar el video en una ventana\n",
    "        cv2.putText(image, f'Fotos restantes: {countdown}', (10, 50),\n",
    "                    cv2.FONT_HERSHEY_SIMPLEX, 1, (0, 255, 0), 2, cv2.LINE_AA)\n",
    "        cv2.imshow('Video', image)\n",
    "\n",
    "        cv2.putText(image, f'Carpeta manzana:{subfolder_index}:{actions[1]}', (10, 100),\n",
    "                    cv2.FONT_HERSHEY_SIMPLEX, 1, (0, 255, 0), 2, cv2.LINE_AA)\n",
    "        cv2.imshow('Video', image)\n",
    "\n",
    "        \n",
    "\n",
    "        # Esperar a que se presione una tecla\n",
    "        key = cv2.waitKey(1) & 0xFF\n",
    "\n",
    "        if key == ord(\"q\"):\n",
    "            break\n",
    "        elif key == ord('d'):\n",
    "            # Tomar la foto y guardarla en formato JPG\n",
    "            current_action = actions[action_index]\n",
    "            current_subfolder = subfolders[subfolder_index]\n",
    "            photo_filename = f'{photo_count[current_action][current_subfolder]}.jpg'\n",
    "            photo_path = os.path.join(DATA_PATH, current_action, current_subfolder, photo_filename)\n",
    "            cv2.imwrite(photo_path, image)\n",
    "            photo_count[current_action][current_subfolder] += 1\n",
    "\n",
    "            # Extraer y guardar los puntos clave en formato NPY\n",
    "            keypoints = extract_keypoints(results)\n",
    "            npy_filename = f'{photo_count[current_action][current_subfolder] - 1}.npy'\n",
    "            npy_path = os.path.join(DATA_PATH, current_action, current_subfolder, npy_filename)\n",
    "            np.save(npy_path, keypoints)\n",
    "\n",
    "            # Actualizar el contador y mostrarlo en pantalla\n",
    "            countdown -= 1\n",
    "            cv2.putText(image, f'Foto guardada: {photo_filename}', (10, 100),\n",
    "                        cv2.FONT_HERSHEY_SIMPLEX, 1, (255, 0, 0), 2, cv2.LINE_AA)\n",
    "            cv2.imshow('Video', image)\n",
    "\n",
    "            if countdown == 0:\n",
    "                # Mostrar mensaje de cambio de subcarpeta\n",
    "                cv2.putText(image, 'Cambio de subcarpeta', (10, 150),\n",
    "                            cv2.FONT_HERSHEY_SIMPLEX, 1, (0, 0, 255), 2, cv2.LINE_AA)\n",
    "                cv2.imshow('Video', image)\n",
    "                cv2.waitKey(1000)\n",
    "\n",
    "                \n",
    "\n",
    "                # Cambiar a la siguiente subcarpeta\n",
    "                subfolder_index += 1\n",
    "                countdown = sequence_length  # Reiniciar el contador\n",
    "\n",
    "                if subfolder_index >= len(subfolders):\n",
    "                    subfolder_index = 0\n",
    "                    action_index += 1\n",
    "\n",
    "                    if action_index >= len(actions):\n",
    "                        cv2.putText(image, 'Todas las fotos completadas', (10, 200),\n",
    "                                    cv2.FONT_HERSHEY_SIMPLEX, 1, (0, 255, 255), 2, cv2.LINE_AA)\n",
    "                        cv2.imshow('Video', image)\n",
    "                        cv2.waitKey(2000)\n",
    "                        break\n",
    "\n",
    "cap.release()\n",
    "cv2.destroyAllWindows()"
   ]
  }
 ],
 "metadata": {
  "kernelspec": {
   "display_name": "sigmov",
   "language": "python",
   "name": "python3"
  },
  "language_info": {
   "codemirror_mode": {
    "name": "ipython",
    "version": 3
   },
   "file_extension": ".py",
   "mimetype": "text/x-python",
   "name": "python",
   "nbconvert_exporter": "python",
   "pygments_lexer": "ipython3",
   "version": "3.9.19"
  }
 },
 "nbformat": 4,
 "nbformat_minor": 2
}
