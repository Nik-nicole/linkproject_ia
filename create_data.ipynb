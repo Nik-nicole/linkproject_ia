{
 "cells": [
  {
   "cell_type": "markdown",
   "metadata": {},
   "source": [
    "# Comprobar que el pc tiene GPU"
   ]
  },
  {
   "cell_type": "code",
   "execution_count": null,
   "metadata": {},
   "outputs": [],
   "source": [
    "!nvidia-smi"
   ]
  },
  {
   "cell_type": "markdown",
   "metadata": {},
   "source": [
    "# Actualizar PIP (Si es necesario)"
   ]
  },
  {
   "cell_type": "code",
   "execution_count": null,
   "metadata": {},
   "outputs": [],
   "source": [
    "%pip install --upgrade pip"
   ]
  },
  {
   "cell_type": "markdown",
   "metadata": {},
   "source": [
    "# Insatalar TensorFlow con cuda para acceso a la GPU"
   ]
  },
  {
   "cell_type": "code",
   "execution_count": null,
   "metadata": {},
   "outputs": [],
   "source": [
    "%pip install 'tensorflow[and-cuda] ' mediapipe"
   ]
  },
  {
   "cell_type": "code",
   "execution_count": null,
   "metadata": {},
   "outputs": [],
   "source": [
    "import tensorflow as tf\n",
    "\n",
    "print(tf.config.list_physical_devices(\"GPU\"))"
   ]
  },
  {
   "cell_type": "markdown",
   "metadata": {},
   "source": [
    "# Importar todas las dependecias"
   ]
  },
  {
   "cell_type": "code",
   "execution_count": 1,
   "metadata": {},
   "outputs": [
    {
     "name": "stderr",
     "output_type": "stream",
     "text": [
      "2024-08-08 16:25:21.529566: I tensorflow/core/util/port.cc:153] oneDNN custom operations are on. You may see slightly different numerical results due to floating-point round-off errors from different computation orders. To turn them off, set the environment variable `TF_ENABLE_ONEDNN_OPTS=0`.\n",
      "2024-08-08 16:25:21.540667: E external/local_xla/xla/stream_executor/cuda/cuda_fft.cc:485] Unable to register cuFFT factory: Attempting to register factory for plugin cuFFT when one has already been registered\n",
      "2024-08-08 16:25:21.554794: E external/local_xla/xla/stream_executor/cuda/cuda_dnn.cc:8454] Unable to register cuDNN factory: Attempting to register factory for plugin cuDNN when one has already been registered\n",
      "2024-08-08 16:25:21.558931: E external/local_xla/xla/stream_executor/cuda/cuda_blas.cc:1452] Unable to register cuBLAS factory: Attempting to register factory for plugin cuBLAS when one has already been registered\n",
      "2024-08-08 16:25:21.569623: I tensorflow/core/platform/cpu_feature_guard.cc:210] This TensorFlow binary is optimized to use available CPU instructions in performance-critical operations.\n",
      "To enable the following instructions: AVX2 AVX_VNNI FMA, in other operations, rebuild TensorFlow with the appropriate compiler flags.\n",
      "2024-08-08 16:25:22.256730: W tensorflow/compiler/tf2tensorrt/utils/py_utils.cc:38] TF-TRT Warning: Could not find TensorRT\n"
     ]
    }
   ],
   "source": [
    "import cv2\n",
    "import mediapipe as mp\n",
    "import matplotlib.pyplot as plt\n",
    "from tensorflow.keras.layers import Dense  \n",
    "import numpy as np\n",
    "from tensorflow.keras.models import Sequential  \n",
    "from tensorflow.keras.losses import sparse_categorical_crossentropy  \n",
    "import os"
   ]
  },
  {
   "cell_type": "markdown",
   "metadata": {},
   "source": [
    "# Uso de mediapipe para dibujar los puntos "
   ]
  },
  {
   "cell_type": "code",
   "execution_count": 2,
   "metadata": {},
   "outputs": [],
   "source": [
    "mp_holistic = mp.solutions.holistic  # Holistic model\n",
    "mp_drawing = mp.solutions.drawing_utils  # Drawing utilities"
   ]
  },
  {
   "cell_type": "code",
   "execution_count": 3,
   "metadata": {},
   "outputs": [],
   "source": [
    "def mediapipe_detection(image, model):\n",
    "    image = cv2.cvtColor(image, cv2.COLOR_BGR2RGB)  # COLOR CONVERSION BGR 2 RGB\n",
    "    image.flags.writeable = False  # Image is no longer writeable\n",
    "    results = model.process(image)  # Make prediction\n",
    "    image.flags.writeable = True  # Image is now writeable\n",
    "    image = cv2.cvtColor(image, cv2.COLOR_RGB2BGR)  # COLOR COVERSION RGB 2 BGR\n",
    "    return image, results"
   ]
  },
  {
   "cell_type": "markdown",
   "metadata": {},
   "source": [
    "Auqui se realiza el dibujo de cada clase,  para ver en vivo cuando se haga la prueba la barrra  superior ."
   ]
  },
  {
   "cell_type": "code",
   "execution_count": 4,
   "metadata": {},
   "outputs": [],
   "source": [
    "colors = [\n",
    "    (245, 117, 16),\n",
    "    (117, 245, 16),\n",
    "    (16, 117, 245),\n",
    "    (16, 117, 245),\n",
    "    (16, 117, 245),\n",
    "    (16, 117, 245),\n",
    "    (16, 117, 245),\n",
    "    (16, 117, 245),\n",
    "    (16, 117, 245),\n",
    "    (16, 117, 245),\n",
    "]\n",
    "\n",
    "\n",
    "def prob_viz(res, actions, input_frame, colors):\n",
    "    output_frame = input_frame.copy()\n",
    "    for num, prob in enumerate(res):\n",
    "        cv2.rectangle(\n",
    "            output_frame,\n",
    "            (0, 60 + num * 40),\n",
    "            (int(prob * 100), 90 + num * 40),\n",
    "            colors[num],\n",
    "            -1,\n",
    "        )\n",
    "        cv2.putText(\n",
    "            output_frame,\n",
    "            actions[num],\n",
    "            (0, 85 + num * 40),\n",
    "            cv2.FONT_HERSHEY_SIMPLEX,\n",
    "            1,\n",
    "            (255, 255, 255),\n",
    "            2,\n",
    "            cv2.LINE_AA,\n",
    "        )\n",
    "\n",
    "    return output_frame"
   ]
  },
  {
   "cell_type": "markdown",
   "metadata": {},
   "source": [
    "dibujo de , face, pose, left hand and right hand."
   ]
  },
  {
   "cell_type": "code",
   "execution_count": 5,
   "metadata": {},
   "outputs": [],
   "source": [
    "def draw_landmarks(image, results):\n",
    "    mp_drawing.draw_landmarks(\n",
    "        image, results.face_landmarks, mp_holistic.FACEMESH_TESSELATION\n",
    "    )  # Draw face connections\n",
    "    mp_drawing.draw_landmarks(\n",
    "        image, results.pose_landmarks, mp_holistic.POSE_CONNECTIONS\n",
    "    )  # Draw pose connections\n",
    "    mp_drawing.draw_landmarks(\n",
    "        image, results.left_hand_landmarks, mp_holistic.HAND_CONNECTIONS\n",
    "    )  # Draw left hand connections\n",
    "    mp_drawing.draw_landmarks(\n",
    "        image, results.right_hand_landmarks, mp_holistic.HAND_CONNECTIONS\n",
    "    )  # Draw right hand connections"
   ]
  },
  {
   "cell_type": "code",
   "execution_count": 6,
   "metadata": {},
   "outputs": [],
   "source": [
    "def draw_styled_landmarks(image, results):\n",
    "    # Draw face connections\n",
    "    mp_drawing.draw_landmarks(\n",
    "        image,\n",
    "        results.face_landmarks,\n",
    "        mp_holistic.FACEMESH_TESSELATION,\n",
    "        mp_drawing.DrawingSpec(color=(80, 110, 10), thickness=1, circle_radius=1),\n",
    "        mp_drawing.DrawingSpec(color=(80, 256, 121), thickness=1, circle_radius=1),\n",
    "    )\n",
    "    # Draw pose connections\n",
    "    mp_drawing.draw_landmarks(\n",
    "        image,\n",
    "        results.pose_landmarks,\n",
    "        mp_holistic.POSE_CONNECTIONS,\n",
    "        mp_drawing.DrawingSpec(color=(80, 22, 10), thickness=2, circle_radius=4),\n",
    "        mp_drawing.DrawingSpec(color=(80, 44, 121), thickness=2, circle_radius=2),\n",
    "    )\n",
    "    # Draw left hand connections\n",
    "    mp_drawing.draw_landmarks(\n",
    "        image,\n",
    "        results.left_hand_landmarks,\n",
    "        mp_holistic.HAND_CONNECTIONS,\n",
    "        mp_drawing.DrawingSpec(color=(121, 22, 76), thickness=2, circle_radius=4),\n",
    "        mp_drawing.DrawingSpec(color=(121, 44, 250), thickness=2, circle_radius=2),\n",
    "    )\n",
    "    # Draw right hand connections\n",
    "    mp_drawing.draw_landmarks(\n",
    "        image,\n",
    "        results.right_hand_landmarks,\n",
    "        mp_holistic.HAND_CONNECTIONS,\n",
    "        mp_drawing.DrawingSpec(color=(245, 117, 66), thickness=2, circle_radius=4),\n",
    "        mp_drawing.DrawingSpec(color=(245, 66, 230), thickness=2, circle_radius=2),\n",
    "    )"
   ]
  },
  {
   "cell_type": "markdown",
   "metadata": {},
   "source": [
    "Extraccion de puntos, en results . X y Y "
   ]
  },
  {
   "cell_type": "code",
   "execution_count": 7,
   "metadata": {},
   "outputs": [],
   "source": [
    "def extract_keypoints(results):\n",
    "    pose = (\n",
    "        np.array(\n",
    "            [\n",
    "                [res.x, res.y, res.z, res.visibility]\n",
    "                for res in results.pose_landmarks.landmark\n",
    "            ]\n",
    "        ).flatten()\n",
    "        if results.pose_landmarks\n",
    "        else np.zeros(33 * 4)\n",
    "    )\n",
    "    face = (\n",
    "        np.array(\n",
    "            [[res.x, res.y, res.z] for res in results.face_landmarks.landmark]\n",
    "        ).flatten()\n",
    "        if results.face_landmarks\n",
    "        else np.zeros(468 * 3)\n",
    "    )\n",
    "    lh = (\n",
    "        np.array(\n",
    "            [[res.x, res.y, res.z] for res in results.left_hand_landmarks.landmark]\n",
    "        ).flatten()\n",
    "        if results.left_hand_landmarks\n",
    "        else np.zeros(21 * 3)\n",
    "    )\n",
    "    rh = (\n",
    "        np.array(\n",
    "            [[res.x, res.y, res.z] for res in results.right_hand_landmarks.landmark]\n",
    "        ).flatten()\n",
    "        if results.right_hand_landmarks\n",
    "        else np.zeros(21 * 3)\n",
    "    )\n",
    "    return np.concatenate([pose, face, lh, rh])"
   ]
  },
  {
   "cell_type": "markdown",
   "metadata": {},
   "source": [
    "# Creacion de las carpetas "
   ]
  },
  {
   "cell_type": "code",
   "execution_count": 8,
   "metadata": {},
   "outputs": [],
   "source": [
    "# variable de la carpeta general\n",
    "DATA_PATH = os.path.join(\"D_CORTO\")\n",
    "# variable de las clases\n",
    "actions = np.array([\"manzana\", \"coco\"])\n",
    "# variable de las secuencias que se van a ver como subcarpetas\n",
    "no_sequences = 2\n",
    "# Secuencia de frames o fotos , que se van  guardar en las subcarpetas de las clases\n",
    "sequence_length = 4"
   ]
  },
  {
   "cell_type": "code",
   "execution_count": 9,
   "metadata": {},
   "outputs": [
    {
     "name": "stdout",
     "output_type": "stream",
     "text": [
      "['manzana' 'coco']\n"
     ]
    }
   ],
   "source": [
    "print(actions)"
   ]
  },
  {
   "cell_type": "markdown",
   "metadata": {},
   "source": [
    "Se crea la carpeta donde seran guardados los frames de cadad video\n",
    "    "
   ]
  },
  {
   "cell_type": "code",
   "execution_count": 10,
   "metadata": {},
   "outputs": [],
   "source": [
    "for action in actions:\n",
    "    for sequence in range(no_sequences):\n",
    "        try:\n",
    "            os.makedirs(os.path.join(DATA_PATH, action, str(sequence)))\n",
    "        except:\n",
    "            pass"
   ]
  },
  {
   "cell_type": "markdown",
   "metadata": {},
   "source": [
    "Captura de los frames, en este caso fotos de la seña que sean importante (4 frames) "
   ]
  },
  {
   "cell_type": "code",
   "execution_count": 11,
   "metadata": {},
   "outputs": [
    {
     "ename": "SyntaxError",
     "evalue": "invalid syntax (2759743978.py, line 4)",
     "output_type": "error",
     "traceback": [
      "\u001b[0;36m  Cell \u001b[0;32mIn[11], line 4\u001b[0;36m\u001b[0m\n\u001b[0;31m    if key ==\u001b[0m\n\u001b[0m              ^\u001b[0m\n\u001b[0;31mSyntaxError\u001b[0m\u001b[0;31m:\u001b[0m invalid syntax\n"
     ]
    }
   ],
   "source": [
    "\n",
    "cap = cv2.VideoCapture(0)\n",
    "\n",
    "key= cv2.waitKey(1)\n",
    "if key == \n",
    "with mp_holistic.Holistic(min_detection_confidence=0.5, min_tracking_confidence=0.5) as holistic:\n",
    "    for action in actions:\n",
    "            # Loop through sequences aka videos\n",
    "            for sequence in range(no_sequences):#start_folder, start_folder+no_sequences):\n",
    "                # Loop through video length aka sequence length\n",
    "                for frame_num in range(sequence_length):\n",
    "\n",
    "                    # Read feed\n",
    "                    ret, frame = cap.read()\n",
    "                                                    \n",
    "                    # Make detections\n",
    "                    image, results = mediapipe_detection(frame, holistic)\n",
    "\n",
    "                    # Draw landmarks\n",
    "                    draw_styled_landmarks(image, results)\n",
    "                    \n",
    "                    # NEW Apply wait logic\n",
    "                    if frame_num == 0: \n",
    "                        cv2.putText(image, 'STARTING COLLECTION', (120,200), \n",
    "                                cv2.FONT_HERSHEY_SIMPLEX, 1, (0,255, 0), 4, cv2.LINE_AA)\n",
    "                        cv2.putText(image, 'Collecting frames for {} Video Number {}'.format(action, sequence), (15,12), \n",
    "                                cv2.FONT_HERSHEY_SIMPLEX, 0.5, (0, 0, 255), 1, cv2.LINE_AA)\n",
    "                        # Show to screen\n",
    "                        cv2.imshow('OpenCV Feed', image)\n",
    "                        cv2.waitKey(500)\n",
    "                    else: \n",
    "                        cv2.putText(image, 'Collecting frames for {} Video Number {}'.format(action, sequence), (15,12), \n",
    "                                cv2.FONT_HERSHEY_SIMPLEX, 0.5, (0, 0, 255), 1, cv2.LINE_AA)\n",
    "                        # Show to screen\n",
    "                        cv2.imshow('OpenCV Feed', image)\n",
    "                    \n",
    "                    # NEW Export keypoints\n",
    "                    keypoints = extract_keypoints(results)\n",
    "                    npy_path = os.path.join(DATA_PATH, action, str(sequence), str(frame_num))\n",
    "                    np.save(npy_path, keypoints)\n"
   ]
  },
  {
   "cell_type": "code",
   "execution_count": 12,
   "metadata": {},
   "outputs": [
    {
     "ename": "NameError",
     "evalue": "name 'no_sequence' is not defined",
     "output_type": "error",
     "traceback": [
      "\u001b[0;31m---------------------------------------------------------------------------\u001b[0m",
      "\u001b[0;31mNameError\u001b[0m                                 Traceback (most recent call last)",
      "Cell \u001b[0;32mIn[12], line 9\u001b[0m\n\u001b[1;32m      7\u001b[0m \u001b[38;5;66;03m# Inicializar la captura de video\u001b[39;00m\n\u001b[1;32m      8\u001b[0m cap \u001b[38;5;241m=\u001b[39m cv2\u001b[38;5;241m.\u001b[39mVideoCapture(\u001b[38;5;241m0\u001b[39m)\n\u001b[0;32m----> 9\u001b[0m photo_count \u001b[38;5;241m=\u001b[39m {action: {\u001b[38;5;28mstr\u001b[39m(sequence): \u001b[38;5;241m0\u001b[39m \u001b[38;5;28;01mfor\u001b[39;00m sequence \u001b[38;5;129;01min\u001b[39;00m \u001b[38;5;28mrange\u001b[39m(no_sequence)} \u001b[38;5;28;01mfor\u001b[39;00m action \u001b[38;5;129;01min\u001b[39;00m actions}\n\u001b[1;32m     12\u001b[0m \u001b[38;5;28mprint\u001b[39m(\u001b[38;5;124m\"\u001b[39m\u001b[38;5;124mPresiona \u001b[39m\u001b[38;5;124m'\u001b[39m\u001b[38;5;124md\u001b[39m\u001b[38;5;124m'\u001b[39m\u001b[38;5;124m para tomar una foto. Presiona \u001b[39m\u001b[38;5;124m'\u001b[39m\u001b[38;5;124mq\u001b[39m\u001b[38;5;124m'\u001b[39m\u001b[38;5;124m para salir.\u001b[39m\u001b[38;5;124m\"\u001b[39m)\n\u001b[1;32m     14\u001b[0m \u001b[38;5;28;01mwith\u001b[39;00m mp_holistic\u001b[38;5;241m.\u001b[39mHolistic(min_detection_confidence\u001b[38;5;241m=\u001b[39m\u001b[38;5;241m0.5\u001b[39m, min_tracking_confidence\u001b[38;5;241m=\u001b[39m\u001b[38;5;241m0.5\u001b[39m) \u001b[38;5;28;01mas\u001b[39;00m holistic:\n",
      "Cell \u001b[0;32mIn[12], line 9\u001b[0m, in \u001b[0;36m<dictcomp>\u001b[0;34m(.0)\u001b[0m\n\u001b[1;32m      7\u001b[0m \u001b[38;5;66;03m# Inicializar la captura de video\u001b[39;00m\n\u001b[1;32m      8\u001b[0m cap \u001b[38;5;241m=\u001b[39m cv2\u001b[38;5;241m.\u001b[39mVideoCapture(\u001b[38;5;241m0\u001b[39m)\n\u001b[0;32m----> 9\u001b[0m photo_count \u001b[38;5;241m=\u001b[39m {action: {\u001b[38;5;28mstr\u001b[39m(sequence): \u001b[38;5;241m0\u001b[39m \u001b[38;5;28;01mfor\u001b[39;00m sequence \u001b[38;5;129;01min\u001b[39;00m \u001b[38;5;28mrange\u001b[39m(\u001b[43mno_sequence\u001b[49m)} \u001b[38;5;28;01mfor\u001b[39;00m action \u001b[38;5;129;01min\u001b[39;00m actions}\n\u001b[1;32m     12\u001b[0m \u001b[38;5;28mprint\u001b[39m(\u001b[38;5;124m\"\u001b[39m\u001b[38;5;124mPresiona \u001b[39m\u001b[38;5;124m'\u001b[39m\u001b[38;5;124md\u001b[39m\u001b[38;5;124m'\u001b[39m\u001b[38;5;124m para tomar una foto. Presiona \u001b[39m\u001b[38;5;124m'\u001b[39m\u001b[38;5;124mq\u001b[39m\u001b[38;5;124m'\u001b[39m\u001b[38;5;124m para salir.\u001b[39m\u001b[38;5;124m\"\u001b[39m)\n\u001b[1;32m     14\u001b[0m \u001b[38;5;28;01mwith\u001b[39;00m mp_holistic\u001b[38;5;241m.\u001b[39mHolistic(min_detection_confidence\u001b[38;5;241m=\u001b[39m\u001b[38;5;241m0.5\u001b[39m, min_tracking_confidence\u001b[38;5;241m=\u001b[39m\u001b[38;5;241m0.5\u001b[39m) \u001b[38;5;28;01mas\u001b[39;00m holistic:\n",
      "\u001b[0;31mNameError\u001b[0m: name 'no_sequence' is not defined"
     ]
    }
   ],
   "source": [
    "import cv2\n",
    "import os\n",
    "import numpy as np\n",
    "import mediapipe as mp\n",
    "\n",
    "\n",
    "# Inicializar la captura de video\n",
    "cap = cv2.VideoCapture(0)\n",
    "photo_count = {\n",
    "    action: {str(sequence): 0 for sequence in range(no_sequence)} for action in actions\n",
    "}\n",
    "\n",
    "\n",
    "print(\"Presiona 'd' para tomar una foto. Presiona 'q' para salir.\")\n",
    "\n",
    "with mp_holistic.Holistic(\n",
    "    min_detection_confidence=0.5, min_tracking_confidence=0.5\n",
    ") as holistic:\n",
    "    while True:\n",
    "        ret, frame = cap.read()\n",
    "        if not ret:\n",
    "            break\n",
    "\n",
    "        # Hacer las detecciones y dibujar los puntos clave\n",
    "        image, results = mediapipe_detection(frame, holistic)\n",
    "        draw_styled_landmarks(image, results)\n",
    "\n",
    "        # Mostrar el video en una ventana\n",
    "        cv2.imshow(\"Video\", image)\n",
    "\n",
    "        # Esperar a que se presione una tecla\n",
    "        key = cv2.waitKey(1) & 0xFF\n",
    "\n",
    "        if key == ord(\"q\"):\n",
    "            break\n",
    "        elif key == ord(\"d\"):\n",
    "            for action in actions:\n",
    "                # Loop through sequences aka videos\n",
    "                for sequence in range(\n",
    "                    no_sequence\n",
    "                ):  # start_folder, start_folder+no_sequences):\n",
    "                    # Loop through video length aka sequence length\n",
    "                    for frame_num in range(sequence_lengh):\n",
    "\n",
    "                        # Read feed\n",
    "                        ret, frame = cap.read()\n",
    "\n",
    "                        # Make detections\n",
    "                        image, results = mediapipe_detection(frame, holistic)\n",
    "\n",
    "                        # Draw landmarks\n",
    "                        draw_styled_landmarks(image, results)\n",
    "\n",
    "                        # NEW Apply wait logic\n",
    "                        if frame_num == 0:\n",
    "                            cv2.putText(\n",
    "                                image,\n",
    "                                \"STARTING COLLECTION\",\n",
    "                                (120, 200),\n",
    "                                cv2.FONT_HERSHEY_SIMPLEX,\n",
    "                                1,\n",
    "                                (0, 255, 0),\n",
    "                                4,\n",
    "                                cv2.LINE_AA,\n",
    "                            )\n",
    "                            cv2.putText(\n",
    "                                image,\n",
    "                                \"Collecting frames for {} Video Number {}\".format(\n",
    "                                    action, sequence\n",
    "                                ),\n",
    "                                (15, 12),\n",
    "                                cv2.FONT_HERSHEY_SIMPLEX,\n",
    "                                0.5,\n",
    "                                (0, 0, 255),\n",
    "                                1,\n",
    "                                cv2.LINE_AA,\n",
    "                            )\n",
    "                            # Show to screen\n",
    "                            cv2.imshow(\"OpenCV Feed\", image)\n",
    "                            cv2.waitKey(500)\n",
    "                        else:\n",
    "                            cv2.putText(\n",
    "                                image,\n",
    "                                \"Collecting frames for {} Video Number {}\".format(\n",
    "                                    action, sequence\n",
    "                                ),\n",
    "                                (15, 12),\n",
    "                                cv2.FONT_HERSHEY_SIMPLEX,\n",
    "                                0.5,\n",
    "                                (0, 0, 255),\n",
    "                                1,\n",
    "                                cv2.LINE_AA,\n",
    "                            )\n",
    "                            # Show to screen\n",
    "                            cv2.imshow(\"OpenCV Feed\", image)\n",
    "\n",
    "                        # NEW Export keypoints\n",
    "                        keypoints = extract_keypoints(results)\n",
    "                        npy_path = os.path.join(\n",
    "                            DATA_PATH, action, str(sequence), str(frame_num)\n",
    "                        )\n",
    "                        np.save(npy_path, keypoints)\n",
    "                        # Show to screen\n",
    "                        cv2.imshow(\"OpenCV Feed\", image)\n",
    "                        cv2.waitKey(500)\n",
    "                        photo_filename = f\"{photo_count[action][str(sequence)]}.jpg\"\n",
    "                        photo_path = os.path.join(\n",
    "                            DATA_PATH, action, str(sequence), photo_filename\n",
    "                        )\n",
    "                        cv2.imwrite(photo_path, image)\n",
    "                        photo_count[action][str(sequence)] += 1\n",
    "                        print(f\"Foto guardada: {photo_path}\")\n",
    "\n",
    "                        # Extraer y guardar los puntos clave\n",
    "                        keypoints = extract_keypoints(results)\n",
    "                        npy_path = os.path.join(\n",
    "                            DATA_PATH,\n",
    "                            action,\n",
    "                            str(sequence),\n",
    "                            f\"{photo_count[action][str(sequence)] - 1}.npy\",\n",
    "                        )\n",
    "                        np.save(npy_path, keypoints)\n",
    "                        print(f\"Puntos clave guardados: {npy_path}\")\n",
    "                        break\n",
    "\n",
    "\n",
    "cap.release()\n",
    "cv2.destroyAllWindows()"
   ]
  }
 ],
 "metadata": {
  "kernelspec": {
   "display_name": "sigmov",
   "language": "python",
   "name": "python3"
  },
  "language_info": {
   "codemirror_mode": {
    "name": "ipython",
    "version": 3
   },
   "file_extension": ".py",
   "mimetype": "text/x-python",
   "name": "python",
   "nbconvert_exporter": "python",
   "pygments_lexer": "ipython3",
   "version": "3.9.19"
  }
 },
 "nbformat": 4,
 "nbformat_minor": 2
}
