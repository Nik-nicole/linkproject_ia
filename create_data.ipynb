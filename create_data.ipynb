{
 "cells": [
  {
   "cell_type": "markdown",
   "metadata": {},
   "source": [
    "# Actualizar PIP (Si es necesario)"
   ]
  },
  {
   "cell_type": "code",
   "execution_count": null,
   "metadata": {},
   "outputs": [],
   "source": [
    "%pip install --upgrade pip"
   ]
  },
  {
   "cell_type": "markdown",
   "metadata": {},
   "source": [
    "# Instalar las dependencias"
   ]
  },
  {
   "cell_type": "code",
   "execution_count": 3,
   "metadata": {},
   "outputs": [
    {
     "name": "stdout",
     "output_type": "stream",
     "text": [
      "Requirement already satisfied: absl-py==2.1.0 in /home/popetasmixs/anaconda3/envs/sena/lib/python3.9/site-packages (from -r requirements.txt (line 1)) (2.1.0)\n",
      "Requirement already satisfied: astroid==3.2.4 in /home/popetasmixs/anaconda3/envs/sena/lib/python3.9/site-packages (from -r requirements.txt (line 2)) (3.2.4)\n",
      "Requirement already satisfied: astunparse==1.6.3 in /home/popetasmixs/anaconda3/envs/sena/lib/python3.9/site-packages (from -r requirements.txt (line 3)) (1.6.3)\n",
      "Requirement already satisfied: attrs==24.2.0 in /home/popetasmixs/anaconda3/envs/sena/lib/python3.9/site-packages (from -r requirements.txt (line 4)) (24.2.0)\n",
      "Requirement already satisfied: certifi==2024.7.4 in /home/popetasmixs/anaconda3/envs/sena/lib/python3.9/site-packages (from -r requirements.txt (line 5)) (2024.7.4)\n",
      "Requirement already satisfied: cffi==1.17.0 in /home/popetasmixs/anaconda3/envs/sena/lib/python3.9/site-packages (from -r requirements.txt (line 6)) (1.17.0)\n",
      "Requirement already satisfied: charset-normalizer==3.3.2 in /home/popetasmixs/anaconda3/envs/sena/lib/python3.9/site-packages (from -r requirements.txt (line 7)) (3.3.2)\n",
      "Requirement already satisfied: contourpy==1.2.1 in /home/popetasmixs/anaconda3/envs/sena/lib/python3.9/site-packages (from -r requirements.txt (line 8)) (1.2.1)\n",
      "Requirement already satisfied: cycler==0.12.1 in /home/popetasmixs/anaconda3/envs/sena/lib/python3.9/site-packages (from -r requirements.txt (line 9)) (0.12.1)\n",
      "Requirement already satisfied: dill==0.3.8 in /home/popetasmixs/anaconda3/envs/sena/lib/python3.9/site-packages (from -r requirements.txt (line 10)) (0.3.8)\n",
      "Requirement already satisfied: flatbuffers==24.3.25 in /home/popetasmixs/anaconda3/envs/sena/lib/python3.9/site-packages (from -r requirements.txt (line 11)) (24.3.25)\n",
      "Requirement already satisfied: fonttools==4.53.1 in /home/popetasmixs/anaconda3/envs/sena/lib/python3.9/site-packages (from -r requirements.txt (line 12)) (4.53.1)\n",
      "Requirement already satisfied: gast==0.6.0 in /home/popetasmixs/anaconda3/envs/sena/lib/python3.9/site-packages (from -r requirements.txt (line 13)) (0.6.0)\n",
      "Requirement already satisfied: google-pasta==0.2.0 in /home/popetasmixs/anaconda3/envs/sena/lib/python3.9/site-packages (from -r requirements.txt (line 14)) (0.2.0)\n",
      "Requirement already satisfied: grpcio==1.65.4 in /home/popetasmixs/anaconda3/envs/sena/lib/python3.9/site-packages (from -r requirements.txt (line 15)) (1.65.4)\n",
      "Requirement already satisfied: h5py==3.11.0 in /home/popetasmixs/anaconda3/envs/sena/lib/python3.9/site-packages (from -r requirements.txt (line 16)) (3.11.0)\n",
      "Requirement already satisfied: idna==3.7 in /home/popetasmixs/anaconda3/envs/sena/lib/python3.9/site-packages (from -r requirements.txt (line 17)) (3.7)\n",
      "Requirement already satisfied: importlib_resources==6.4.0 in /home/popetasmixs/anaconda3/envs/sena/lib/python3.9/site-packages (from -r requirements.txt (line 18)) (6.4.0)\n",
      "Requirement already satisfied: isort==5.13.2 in /home/popetasmixs/anaconda3/envs/sena/lib/python3.9/site-packages (from -r requirements.txt (line 19)) (5.13.2)\n",
      "Requirement already satisfied: jax==0.4.30 in /home/popetasmixs/anaconda3/envs/sena/lib/python3.9/site-packages (from -r requirements.txt (line 20)) (0.4.30)\n",
      "Requirement already satisfied: jaxlib==0.4.30 in /home/popetasmixs/anaconda3/envs/sena/lib/python3.9/site-packages (from -r requirements.txt (line 21)) (0.4.30)\n",
      "Requirement already satisfied: keras==3.4.1 in /home/popetasmixs/anaconda3/envs/sena/lib/python3.9/site-packages (from -r requirements.txt (line 22)) (3.4.1)\n",
      "Requirement already satisfied: kiwisolver==1.4.5 in /home/popetasmixs/anaconda3/envs/sena/lib/python3.9/site-packages (from -r requirements.txt (line 23)) (1.4.5)\n",
      "Requirement already satisfied: libclang==18.1.1 in /home/popetasmixs/anaconda3/envs/sena/lib/python3.9/site-packages (from -r requirements.txt (line 24)) (18.1.1)\n",
      "Requirement already satisfied: Markdown==3.6 in /home/popetasmixs/anaconda3/envs/sena/lib/python3.9/site-packages (from -r requirements.txt (line 25)) (3.6)\n",
      "Requirement already satisfied: markdown-it-py==3.0.0 in /home/popetasmixs/anaconda3/envs/sena/lib/python3.9/site-packages (from -r requirements.txt (line 26)) (3.0.0)\n",
      "Requirement already satisfied: MarkupSafe==2.1.5 in /home/popetasmixs/anaconda3/envs/sena/lib/python3.9/site-packages (from -r requirements.txt (line 27)) (2.1.5)\n",
      "Requirement already satisfied: matplotlib==3.9.1.post1 in /home/popetasmixs/anaconda3/envs/sena/lib/python3.9/site-packages (from -r requirements.txt (line 28)) (3.9.1.post1)\n",
      "Requirement already satisfied: mccabe==0.7.0 in /home/popetasmixs/anaconda3/envs/sena/lib/python3.9/site-packages (from -r requirements.txt (line 29)) (0.7.0)\n",
      "Requirement already satisfied: mdurl==0.1.2 in /home/popetasmixs/anaconda3/envs/sena/lib/python3.9/site-packages (from -r requirements.txt (line 30)) (0.1.2)\n",
      "Requirement already satisfied: mediapipe==0.10.14 in /home/popetasmixs/anaconda3/envs/sena/lib/python3.9/site-packages (from -r requirements.txt (line 31)) (0.10.14)\n",
      "Requirement already satisfied: ml-dtypes==0.4.0 in /home/popetasmixs/anaconda3/envs/sena/lib/python3.9/site-packages (from -r requirements.txt (line 32)) (0.4.0)\n",
      "Requirement already satisfied: namex==0.0.8 in /home/popetasmixs/anaconda3/envs/sena/lib/python3.9/site-packages (from -r requirements.txt (line 33)) (0.0.8)\n",
      "Requirement already satisfied: numpy==1.26.4 in /home/popetasmixs/anaconda3/envs/sena/lib/python3.9/site-packages (from -r requirements.txt (line 34)) (1.26.4)\n",
      "Requirement already satisfied: nvidia-cublas-cu12==12.3.4.1 in /home/popetasmixs/anaconda3/envs/sena/lib/python3.9/site-packages (from -r requirements.txt (line 35)) (12.3.4.1)\n",
      "Requirement already satisfied: nvidia-cuda-cupti-cu12==12.3.101 in /home/popetasmixs/anaconda3/envs/sena/lib/python3.9/site-packages (from -r requirements.txt (line 36)) (12.3.101)\n",
      "Requirement already satisfied: nvidia-cuda-nvcc-cu12==12.3.107 in /home/popetasmixs/anaconda3/envs/sena/lib/python3.9/site-packages (from -r requirements.txt (line 37)) (12.3.107)\n",
      "Requirement already satisfied: nvidia-cuda-nvrtc-cu12==12.3.107 in /home/popetasmixs/anaconda3/envs/sena/lib/python3.9/site-packages (from -r requirements.txt (line 38)) (12.3.107)\n",
      "Requirement already satisfied: nvidia-cuda-runtime-cu12==12.3.101 in /home/popetasmixs/anaconda3/envs/sena/lib/python3.9/site-packages (from -r requirements.txt (line 39)) (12.3.101)\n",
      "Requirement already satisfied: nvidia-cudnn-cu12==8.9.7.29 in /home/popetasmixs/anaconda3/envs/sena/lib/python3.9/site-packages (from -r requirements.txt (line 40)) (8.9.7.29)\n",
      "Requirement already satisfied: nvidia-cufft-cu12==11.0.12.1 in /home/popetasmixs/anaconda3/envs/sena/lib/python3.9/site-packages (from -r requirements.txt (line 41)) (11.0.12.1)\n",
      "Requirement already satisfied: nvidia-curand-cu12==10.3.4.107 in /home/popetasmixs/anaconda3/envs/sena/lib/python3.9/site-packages (from -r requirements.txt (line 42)) (10.3.4.107)\n",
      "Requirement already satisfied: nvidia-cusolver-cu12==11.5.4.101 in /home/popetasmixs/anaconda3/envs/sena/lib/python3.9/site-packages (from -r requirements.txt (line 43)) (11.5.4.101)\n",
      "Requirement already satisfied: nvidia-cusparse-cu12==12.2.0.103 in /home/popetasmixs/anaconda3/envs/sena/lib/python3.9/site-packages (from -r requirements.txt (line 44)) (12.2.0.103)\n",
      "Requirement already satisfied: nvidia-nccl-cu12==2.19.3 in /home/popetasmixs/anaconda3/envs/sena/lib/python3.9/site-packages (from -r requirements.txt (line 45)) (2.19.3)\n",
      "Requirement already satisfied: nvidia-nvjitlink-cu12==12.3.101 in /home/popetasmixs/anaconda3/envs/sena/lib/python3.9/site-packages (from -r requirements.txt (line 46)) (12.3.101)\n",
      "Requirement already satisfied: opencv-contrib-python==4.10.0.84 in /home/popetasmixs/anaconda3/envs/sena/lib/python3.9/site-packages (from -r requirements.txt (line 47)) (4.10.0.84)\n",
      "Requirement already satisfied: opt-einsum==3.3.0 in /home/popetasmixs/anaconda3/envs/sena/lib/python3.9/site-packages (from -r requirements.txt (line 48)) (3.3.0)\n",
      "Requirement already satisfied: optree==0.12.1 in /home/popetasmixs/anaconda3/envs/sena/lib/python3.9/site-packages (from -r requirements.txt (line 49)) (0.12.1)\n",
      "Requirement already satisfied: pillow==10.4.0 in /home/popetasmixs/anaconda3/envs/sena/lib/python3.9/site-packages (from -r requirements.txt (line 50)) (10.4.0)\n",
      "Requirement already satisfied: protobuf==4.25.4 in /home/popetasmixs/anaconda3/envs/sena/lib/python3.9/site-packages (from -r requirements.txt (line 51)) (4.25.4)\n",
      "Requirement already satisfied: pycparser==2.22 in /home/popetasmixs/anaconda3/envs/sena/lib/python3.9/site-packages (from -r requirements.txt (line 52)) (2.22)\n",
      "Requirement already satisfied: pyparsing==3.1.2 in /home/popetasmixs/anaconda3/envs/sena/lib/python3.9/site-packages (from -r requirements.txt (line 53)) (3.1.2)\n",
      "Requirement already satisfied: requests==2.32.3 in /home/popetasmixs/anaconda3/envs/sena/lib/python3.9/site-packages (from -r requirements.txt (line 54)) (2.32.3)\n",
      "Requirement already satisfied: rich==13.7.1 in /home/popetasmixs/anaconda3/envs/sena/lib/python3.9/site-packages (from -r requirements.txt (line 55)) (13.7.1)\n",
      "Requirement already satisfied: scipy==1.13.1 in /home/popetasmixs/anaconda3/envs/sena/lib/python3.9/site-packages (from -r requirements.txt (line 56)) (1.13.1)\n",
      "Requirement already satisfied: sounddevice==0.4.7 in /home/popetasmixs/anaconda3/envs/sena/lib/python3.9/site-packages (from -r requirements.txt (line 57)) (0.4.7)\n",
      "Requirement already satisfied: tensorboard==2.17.0 in /home/popetasmixs/anaconda3/envs/sena/lib/python3.9/site-packages (from -r requirements.txt (line 58)) (2.17.0)\n",
      "Requirement already satisfied: tensorboard-data-server==0.7.2 in /home/popetasmixs/anaconda3/envs/sena/lib/python3.9/site-packages (from -r requirements.txt (line 59)) (0.7.2)\n",
      "Requirement already satisfied: tensorflow==2.17.0 in /home/popetasmixs/anaconda3/envs/sena/lib/python3.9/site-packages (from -r requirements.txt (line 60)) (2.17.0)\n",
      "Requirement already satisfied: tensorflow-io-gcs-filesystem==0.37.1 in /home/popetasmixs/anaconda3/envs/sena/lib/python3.9/site-packages (from -r requirements.txt (line 61)) (0.37.1)\n",
      "Requirement already satisfied: termcolor==2.4.0 in /home/popetasmixs/anaconda3/envs/sena/lib/python3.9/site-packages (from -r requirements.txt (line 62)) (2.4.0)\n",
      "Requirement already satisfied: tomli==2.0.1 in /home/popetasmixs/anaconda3/envs/sena/lib/python3.9/site-packages (from -r requirements.txt (line 63)) (2.0.1)\n",
      "Requirement already satisfied: tomlkit==0.13.0 in /home/popetasmixs/anaconda3/envs/sena/lib/python3.9/site-packages (from -r requirements.txt (line 64)) (0.13.0)\n",
      "Requirement already satisfied: urllib3==2.2.2 in /home/popetasmixs/anaconda3/envs/sena/lib/python3.9/site-packages (from -r requirements.txt (line 65)) (2.2.2)\n",
      "Requirement already satisfied: Werkzeug==3.0.3 in /home/popetasmixs/anaconda3/envs/sena/lib/python3.9/site-packages (from -r requirements.txt (line 66)) (3.0.3)\n",
      "Requirement already satisfied: wrapt==1.16.0 in /home/popetasmixs/anaconda3/envs/sena/lib/python3.9/site-packages (from -r requirements.txt (line 67)) (1.16.0)\n",
      "Requirement already satisfied: typing-extensions>=4.0.0 in /home/popetasmixs/anaconda3/envs/sena/lib/python3.9/site-packages (from astroid==3.2.4->-r requirements.txt (line 2)) (4.12.2)\n",
      "Requirement already satisfied: wheel<1.0,>=0.23.0 in /home/popetasmixs/anaconda3/envs/sena/lib/python3.9/site-packages (from astunparse==1.6.3->-r requirements.txt (line 3)) (0.43.0)\n",
      "Requirement already satisfied: six<2.0,>=1.6.1 in /home/popetasmixs/anaconda3/envs/sena/lib/python3.9/site-packages (from astunparse==1.6.3->-r requirements.txt (line 3)) (1.16.0)\n",
      "Requirement already satisfied: zipp>=3.1.0 in /home/popetasmixs/anaconda3/envs/sena/lib/python3.9/site-packages (from importlib_resources==6.4.0->-r requirements.txt (line 18)) (3.19.2)\n",
      "Requirement already satisfied: importlib-metadata>=4.6 in /home/popetasmixs/anaconda3/envs/sena/lib/python3.9/site-packages (from jax==0.4.30->-r requirements.txt (line 20)) (8.2.0)\n",
      "Requirement already satisfied: packaging in /home/popetasmixs/anaconda3/envs/sena/lib/python3.9/site-packages (from keras==3.4.1->-r requirements.txt (line 22)) (24.1)\n",
      "Requirement already satisfied: python-dateutil>=2.7 in /home/popetasmixs/anaconda3/envs/sena/lib/python3.9/site-packages (from matplotlib==3.9.1.post1->-r requirements.txt (line 28)) (2.9.0)\n",
      "Requirement already satisfied: pygments<3.0.0,>=2.13.0 in /home/popetasmixs/anaconda3/envs/sena/lib/python3.9/site-packages (from rich==13.7.1->-r requirements.txt (line 55)) (2.18.0)\n",
      "Requirement already satisfied: setuptools>=41.0.0 in /home/popetasmixs/anaconda3/envs/sena/lib/python3.9/site-packages (from tensorboard==2.17.0->-r requirements.txt (line 58)) (72.1.0)\n",
      "Note: you may need to restart the kernel to use updated packages.\n"
     ]
    }
   ],
   "source": [
    "%pip install -r requirements.txt"
   ]
  },
  {
   "cell_type": "markdown",
   "metadata": {},
   "source": [
    "# Importacion de dependencias"
   ]
  },
  {
   "cell_type": "code",
   "execution_count": 4,
   "metadata": {},
   "outputs": [],
   "source": [
    "import os\n",
    "import cv2\n",
    "import numpy as np\n",
    "import mediapipe as mp\n",
    "import tensorflow as tf\n",
    "from matplotlib import pyplot as plt  # type: ignore\n",
    "from tensorflow.keras.layers import Dense  # type: ignore\n",
    "from tensorflow.keras.models import Sequential  # type: ignore\n",
    "from tensorflow.keras.losses import sparse_categorical_crossentropy  # type: ignore"
   ]
  },
  {
   "cell_type": "markdown",
   "metadata": {},
   "source": [
    "## Importación de funciones "
   ]
  },
  {
   "cell_type": "code",
   "execution_count": null,
   "metadata": {},
   "outputs": [],
   "source": [
    "from labeling_images import prob_viz, mediapipe_detection, draw_landmarks, draw_styled_landmarks, extract_keypoints"
   ]
  },
  {
   "cell_type": "markdown",
   "metadata": {},
   "source": [
    "# Verificacion de capacidad grafica "
   ]
  },
  {
   "cell_type": "code",
   "execution_count": 6,
   "metadata": {},
   "outputs": [
    {
     "name": "stdout",
     "output_type": "stream",
     "text": [
      "[PhysicalDevice(name='/physical_device:GPU:0', device_type='GPU')]\n",
      "TensorFlow version: 2.17.0\n",
      "Is GPU available: [PhysicalDevice(name='/physical_device:GPU:0', device_type='GPU')]\n"
     ]
    }
   ],
   "source": [
    "\n",
    "print(tf.config.list_physical_devices(\"GPU\"))\n",
    "print(\"TensorFlow version:\", tf.__version__)\n",
    "print(\"Is GPU available:\", tf.config.list_physical_devices('GPU'))"
   ]
  },
  {
   "cell_type": "markdown",
   "metadata": {},
   "source": [
    "# Creacion de las carpetas "
   ]
  },
  {
   "cell_type": "code",
   "execution_count": 7,
   "metadata": {},
   "outputs": [],
   "source": [
    "# Carpeta General\n",
    "DATA_PATH = os.path.join(\"D_CORTO\")\n",
    "# Clases \n",
    "actions = np.array([\"manzana\", \"coco\"])\n",
    "# Numero de subcarpetas\n",
    "no_sequences = 2\n",
    "# Cantidad de fotos por secuencia\n",
    "sequence_length = 4"
   ]
  },
  {
   "cell_type": "code",
   "execution_count": 8,
   "metadata": {},
   "outputs": [
    {
     "name": "stdout",
     "output_type": "stream",
     "text": [
      "['manzana' 'coco']\n"
     ]
    }
   ],
   "source": [
    "print(actions)"
   ]
  },
  {
   "cell_type": "markdown",
   "metadata": {},
   "source": [
    "Se crea la carpeta donde seran guardados los frames de cadad video\n",
    "    "
   ]
  },
  {
   "cell_type": "code",
   "execution_count": 9,
   "metadata": {},
   "outputs": [],
   "source": [
    "for action in actions:\n",
    "    for sequence in range(no_sequences):\n",
    "        try:\n",
    "            os.makedirs(os.path.join(DATA_PATH, action, str(sequence)))\n",
    "        except:\n",
    "            pass"
   ]
  },
  {
   "cell_type": "markdown",
   "metadata": {},
   "source": [
    "Captura de los frames, en este caso fotos de la seña que sean importante (4 frames) "
   ]
  },
  {
   "cell_type": "code",
   "execution_count": null,
   "metadata": {},
   "outputs": [],
   "source": [
    "# import cv2\n",
    "# import os\n",
    "# import numpy as np\n",
    "# import mediapipe as mp\n",
    "\n",
    "\n",
    "# # Inicializar la captura de video\n",
    "# cap = cv2.VideoCapture(0)\n",
    "# photo_count = {action: {str(sequence): 0 for sequence in range(no_sequences)} for action in actions}\n",
    "\n",
    "\n",
    "# print(\"Presiona 'd' para tomar una foto. Presiona 'q' para salir.\")\n",
    "\n",
    "# with mp_holistic.Holistic(min_detection_confidence=0.5, min_tracking_confidence=0.5) as holistic:\n",
    "#     while True:\n",
    "#         ret, frame = cap.read()\n",
    "#         if not ret:\n",
    "#             break\n",
    "\n",
    "#         # Hacer las detecciones y dibujar los puntos clave\n",
    "#         image, results = mediapipe_detection(frame, holistic)\n",
    "#         draw_styled_landmarks(image, results)\n",
    "\n",
    "#         # Mostrar el video en una ventana\n",
    "#         cv2.imshow('Video', image)\n",
    "\n",
    "#         # Esperar a que se presione una tecla\n",
    "#         key = cv2.waitKey(1) & 0xFF\n",
    "\n",
    "#         if key == ord('q'):\n",
    "#             break\n",
    "#         elif key == ord('d'):\n",
    "#              for action in actions:\n",
    "#                 # Loop through sequences aka videos\n",
    "#                 for sequence in range(no_sequences):#start_folder, start_folder+no_sequences):\n",
    "#                     # Loop through video length aka sequence length\n",
    "#                     for frame_num in range(sequence_length):\n",
    "\n",
    "#                         # Read feed\n",
    "#                         ret, frame = cap.read()\n",
    "                                                        \n",
    "#                         # Make detections\n",
    "#                         image, results = mediapipe_detection(frame, holistic)\n",
    "\n",
    "#                         # Draw landmarks\n",
    "#                         draw_styled_landmarks(image, results)\n",
    "                        \n",
    "#                         # NEW Apply wait logic\n",
    "#                         if frame_num == 0: \n",
    "#                             cv2.putText(image, 'STARTING COLLECTION', (120,200), \n",
    "#                                     cv2.FONT_HERSHEY_SIMPLEX, 1, (0,255, 0), 4, cv2.LINE_AA)\n",
    "#                             cv2.putText(image, 'Collecting frames for {} Video Number {}'.format(action, sequence), (15,12), \n",
    "#                                     cv2.FONT_HERSHEY_SIMPLEX, 0.5, (0, 0, 255), 1, cv2.LINE_AA)\n",
    "#                             # Show to screen\n",
    "#                             cv2.imshow('OpenCV Feed', image)\n",
    "#                             cv2.waitKey(500)\n",
    "#                         else: \n",
    "#                             cv2.putText(image, 'Collecting frames for {} Video Number {}'.format(action, sequence), (15,12), \n",
    "#                                     cv2.FONT_HERSHEY_SIMPLEX, 0.5, (0, 0, 255), 1, cv2.LINE_AA)\n",
    "#                             # Show to screen\n",
    "#                             cv2.imshow('OpenCV Feed', image)\n",
    "                        \n",
    "#                         # NEW Export keypoints\n",
    "#                         keypoints = extract_keypoints(results)\n",
    "#                         npy_path = os.path.join(DATA_PATH, action, str(sequence), str(frame_num))\n",
    "#                         np.save(npy_path, keypoints)\n",
    "#                     # Show to screen\n",
    "#                         cv2.imshow('OpenCV Feed', image)\n",
    "#                         cv2.waitKey(500)\n",
    "#                         photo_filename = f'{photo_count[action][str(sequence)]}.jpg'\n",
    "#                         photo_path = os.path.join(DATA_PATH, action, str(sequence), photo_filename)\n",
    "#                         cv2.imwrite(photo_path, image)\n",
    "#                         photo_count[action][str(sequence)] += 1\n",
    "#                         print(f'Foto guardada: {photo_path}')\n",
    "\n",
    "#                         # Extraer y guardar los puntos clave\n",
    "#                         keypoints = extract_keypoints(results)\n",
    "#                         npy_path = os.path.join(DATA_PATH, action, str(sequence), f'{photo_count[action][str(sequence)] - 1}.npy')\n",
    "#                         np.save(npy_path, keypoints)\n",
    "#                         print(f'Puntos clave guardados: {npy_path}')\n",
    "#                         break\n",
    "\n",
    "\n",
    "# cap.release()\n",
    "# cv2.destroyAllWindows()\n"
   ]
  },
  {
   "cell_type": "code",
   "execution_count": null,
   "metadata": {},
   "outputs": [],
   "source": [
    "# Inicializar la captura de video\n",
    "cap = cv2.VideoCapture(0)\n",
    "\n",
    "# Variables de configuración\n",
    "actions = ['coco', 'manzana']  # Lista de frutas\n",
    "sub_folders = [str(i) for i in range(2)]  # Subcarpetas numeradas de 0 a 1\n",
    "sequence_length = 4  # Número de fotos por secuencia\n",
    "\n",
    "# Crear un diccionario para contar las fotos tomadas en cada secuencia\n",
    "photo_count = {action: {sub_folder: 0 for sub_folder in sub_folders} for action in actions}\n",
    "action_index = 0  # Índice para la fruta actual\n",
    "subfolder_index = 0  # Índice para la sub carpeta actual\n",
    "countdown = sequence_length  # Contador inicial para las fotos\n",
    "\n",
    "print(\"Presiona 'd' para tomar una foto. Presiona 'q' para salir.\")\n",
    "\n",
    "with mp.solutions.holistic.Holistic(min_detection_confidence=0.5, min_tracking_confidence=0.5) as holistic:\n",
    "    while True:\n",
    "        ret, frame = cap.read()\n",
    "        if not ret:\n",
    "            break\n",
    "\n",
    "        # Hacer las detecciones y dibujar los puntos clave\n",
    "        image, results = mediapipe_detection(frame, holistic)\n",
    "        draw_styled_landmarks(image, results)\n",
    "\n",
    "        # Mostrar el video en una ventana\n",
    "        cv2.putText(image, f'Fotos restantes: {countdown}', (10, 50),\n",
    "                    cv2.FONT_HERSHEY_SIMPLEX, 1, (0, 255, 0), 2, cv2.LINE_AA)\n",
    "        cv2.imshow('Video', image)\n",
    "\n",
    "        cv2.putText(image, f'Carpeta manzana:{subfolder_index}:{actions[1]}', (10, 100),\n",
    "                    cv2.FONT_HERSHEY_SIMPLEX, 1, (0, 255, 0), 2, cv2.LINE_AA)\n",
    "        cv2.imshow('Video', image)\n",
    "\n",
    "        \n",
    "\n",
    "        # Esperar a que se presione una tecla\n",
    "        key = cv2.waitKey(1) & 0xFF\n",
    "\n",
    "        if key == ord(\"q\"):\n",
    "            break\n",
    "        elif key == ord('d'):\n",
    "            # Tomar la foto y guardarla en formato JPG\n",
    "            current_action = actions[action_index]\n",
    "            current_subfolder = subfolders[subfolder_index]\n",
    "            photo_filename = f'{photo_count[current_action][current_subfolder]}.jpg'\n",
    "            photo_path = os.path.join(DATA_PATH, current_action, current_subfolder, photo_filename)\n",
    "            cv2.imwrite(photo_path, image)\n",
    "            photo_count[current_action][current_subfolder] += 1\n",
    "\n",
    "            # Extraer y guardar los puntos clave en formato NPY\n",
    "            keypoints = extract_keypoints(results)\n",
    "            npy_filename = f'{photo_count[current_action][current_subfolder] - 1}.npy'\n",
    "            npy_path = os.path.join(DATA_PATH, current_action, current_subfolder, npy_filename)\n",
    "            np.save(npy_path, keypoints)\n",
    "\n",
    "            # Actualizar el contador y mostrarlo en pantalla\n",
    "            countdown -= 1\n",
    "            cv2.putText(image, f'Foto guardada: {photo_filename}', (10, 100),\n",
    "                        cv2.FONT_HERSHEY_SIMPLEX, 1, (255, 0, 0), 2, cv2.LINE_AA)\n",
    "            cv2.imshow('Video', image)\n",
    "\n",
    "            if countdown == 0:\n",
    "                # Mostrar mensaje de cambio de subcarpeta\n",
    "                cv2.putText(image, 'Cambio de subcarpeta', (10, 150),\n",
    "                            cv2.FONT_HERSHEY_SIMPLEX, 1, (0, 0, 255), 2, cv2.LINE_AA)\n",
    "                cv2.imshow('Video', image)\n",
    "                cv2.waitKey(1000)\n",
    "\n",
    "                \n",
    "\n",
    "                # Cambiar a la siguiente subcarpeta\n",
    "                subfolder_index += 1\n",
    "                countdown = sequence_length  # Reiniciar el contador\n",
    "\n",
    "                if subfolder_index >= len(subfolders):\n",
    "                    subfolder_index = 0\n",
    "                    action_index += 1\n",
    "\n",
    "                    if action_index >= len(actions):\n",
    "                        cv2.putText(image, 'Todas las fotos completadas', (10, 200),\n",
    "                                    cv2.FONT_HERSHEY_SIMPLEX, 1, (0, 255, 255), 2, cv2.LINE_AA)\n",
    "                        cv2.imshow('Video', image)\n",
    "                        cv2.waitKey(2000)\n",
    "                        break\n",
    "\n",
    "cap.release()\n",
    "cv2.destroyAllWindows()"
   ]
  }
 ],
 "metadata": {
  "kernelspec": {
   "display_name": "sigmov",
   "language": "python",
   "name": "python3"
  },
  "language_info": {
   "codemirror_mode": {
    "name": "ipython",
    "version": 3
   },
   "file_extension": ".py",
   "mimetype": "text/x-python",
   "name": "python",
   "nbconvert_exporter": "python",
   "pygments_lexer": "ipython3",
   "version": "3.9.19"
  }
 },
 "nbformat": 4,
 "nbformat_minor": 2
}
