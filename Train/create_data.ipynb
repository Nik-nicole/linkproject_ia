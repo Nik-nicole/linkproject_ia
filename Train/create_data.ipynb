{
 "cells": [
  {
   "cell_type": "markdown",
   "metadata": {},
   "source": [
    "# Comprobar que el pc tiene GPU"
   ]
  },
  {
   "cell_type": "code",
   "execution_count": 1,
   "metadata": {},
   "outputs": [
    {
     "name": "stdout",
     "output_type": "stream",
     "text": [
      "Mon Dec  9 17:56:13 2024       \n",
      "+-----------------------------------------------------------------------------------------+\n",
      "| NVIDIA-SMI 552.22                 Driver Version: 552.22         CUDA Version: 12.4     |\n",
      "|-----------------------------------------+------------------------+----------------------+\n",
      "| GPU  Name                     TCC/WDDM  | Bus-Id          Disp.A | Volatile Uncorr. ECC |\n",
      "| Fan  Temp   Perf          Pwr:Usage/Cap |           Memory-Usage | GPU-Util  Compute M. |\n",
      "|                                         |                        |               MIG M. |\n",
      "|=========================================+========================+======================|\n",
      "|   0  NVIDIA T1000 8GB             WDDM  |   00000000:61:00.0  On |                  N/A |\n",
      "| 35%   45C    P8             N/A /   50W |    1601MiB /   8192MiB |     40%      Default |\n",
      "|                                         |                        |                  N/A |\n",
      "+-----------------------------------------+------------------------+----------------------+\n",
      "                                                                                         \n",
      "+-----------------------------------------------------------------------------------------+\n",
      "| Processes:                                                                              |\n",
      "|  GPU   GI   CI        PID   Type   Process name                              GPU Memory |\n",
      "|        ID   ID                                                               Usage      |\n",
      "|=========================================================================================|\n",
      "|    0   N/A  N/A      2908    C+G   ...Programs\\Microsoft VS Code\\Code.exe      N/A      |\n",
      "|    0   N/A  N/A      3128    C+G   ....0_x64__8wekyb3d8bbwe\\HxOutlook.exe      N/A      |\n",
      "|    0   N/A  N/A      7664    C+G   ...1.0_x64__8wekyb3d8bbwe\\Video.UI.exe      N/A      |\n",
      "|    0   N/A  N/A      8304    C+G   ...ekyb3d8bbwe\\PhoneExperienceHost.exe      N/A      |\n",
      "|    0   N/A  N/A      8396    C+G   ...ogram Files\\e2eSoft\\iVCam\\iVCam.exe      N/A      |\n",
      "|    0   N/A  N/A      8528    C+G   C:\\Windows\\explorer.exe                     N/A      |\n",
      "|    0   N/A  N/A     10816    C+G   ...nt.CBS_cw5n1h2txyewy\\SearchHost.exe      N/A      |\n",
      "|    0   N/A  N/A     10852    C+G   ...2txyewy\\StartMenuExperienceHost.exe      N/A      |\n",
      "|    0   N/A  N/A     11112    C+G   ...CBS_cw5n1h2txyewy\\TextInputHost.exe      N/A      |\n",
      "|    0   N/A  N/A     11180    C+G   ...refox Developer Edition\\firefox.exe      N/A      |\n",
      "|    0   N/A  N/A     11816    C+G   ...277.0_x64__dt26b99r8h8gj\\RtkUWP.exe      N/A      |\n",
      "|    0   N/A  N/A     12632    C+G   ...on\\131.0.2903.70\\msedgewebview2.exe      N/A      |\n",
      "|    0   N/A  N/A     14552    C+G   ...refox Developer Edition\\firefox.exe      N/A      |\n",
      "|    0   N/A  N/A     14824    C+G   ...5n1h2txyewy\\ShellExperienceHost.exe      N/A      |\n",
      "|    0   N/A  N/A     17760    C+G   ...8bbwe\\SnippingTool\\SnippingTool.exe      N/A      |\n",
      "|    0   N/A  N/A     17828    C+G   ...siveControlPanel\\SystemSettings.exe      N/A      |\n",
      "|    0   N/A  N/A     20908    C+G   ...crosoft\\Edge\\Application\\msedge.exe      N/A      |\n",
      "|    0   N/A  N/A     22988    C+G   ...__8wekyb3d8bbwe\\WindowsTerminal.exe      N/A      |\n",
      "+-----------------------------------------------------------------------------------------+\n"
     ]
    }
   ],
   "source": [
    "!nvidia-smi"
   ]
  },
  {
   "cell_type": "markdown",
   "metadata": {},
   "source": [
    "# Actualizar PIP (Si es necesario)"
   ]
  },
  {
   "cell_type": "code",
   "execution_count": null,
   "metadata": {},
   "outputs": [],
   "source": [
    "%pip install --upgrade pip"
   ]
  },
  {
   "cell_type": "markdown",
   "metadata": {},
   "source": [
    "# Instalar Dependencias"
   ]
  },
  {
   "cell_type": "code",
   "execution_count": null,
   "metadata": {},
   "outputs": [],
   "source": [
    "%pip install -r requirements.txt"
   ]
  },
  {
   "cell_type": "markdown",
   "metadata": {},
   "source": [
    "# Importar todas las dependecias"
   ]
  },
  {
   "cell_type": "code",
   "execution_count": 31,
   "metadata": {},
   "outputs": [],
   "source": [
    "import os\n",
    "import cv2\n",
    "import numpy as np\n",
    "import mediapipe as mp\n",
    "import tensorflow as tf\n",
    "from matplotlib import pyplot as plt  # type: ignore\n",
    "from tensorflow.keras.layers import Dense  # type: ignore\n",
    "from tensorflow.keras.models import Sequential  # type: ignore\n",
    "from tensorflow.keras.losses import sparse_categorical_crossentropy  # type: ignore\n"
   ]
  },
  {
   "cell_type": "markdown",
   "metadata": {},
   "source": [
    "## Importar los métodos necesarios  "
   ]
  },
  {
   "cell_type": "code",
   "execution_count": 32,
   "metadata": {},
   "outputs": [],
   "source": [
    "from labeling_images import *"
   ]
  },
  {
   "cell_type": "markdown",
   "metadata": {},
   "source": [
    "# Creacion de las carpetas "
   ]
  },
  {
   "cell_type": "code",
   "execution_count": 33,
   "metadata": {},
   "outputs": [],
   "source": [
    "# Carpeta general\n",
    "DATA_PATH = os.path.join(\"D_CORTO\")\n",
    "# Clases\n",
    "actions = np.array([\"manzana\", \"coco\"])\n",
    "# Número de secuencias\n",
    "no_sequences = 2\n",
    "# Secuencia de frames o fotos\n",
    "sequence_length = 4"
   ]
  },
  {
   "cell_type": "code",
   "execution_count": 34,
   "metadata": {},
   "outputs": [
    {
     "name": "stdout",
     "output_type": "stream",
     "text": [
      "['manzana' 'coco']\n"
     ]
    }
   ],
   "source": [
    "print(actions)"
   ]
  },
  {
   "cell_type": "markdown",
   "metadata": {},
   "source": [
    "Se crea la carpeta donde seran guardados los frames de cadad video\n",
    "    "
   ]
  },
  {
   "cell_type": "code",
   "execution_count": 35,
   "metadata": {},
   "outputs": [],
   "source": [
    "for action in actions:\n",
    "    for sequence in range(no_sequences):\n",
    "        try:\n",
    "            os.makedirs(os.path.join(DATA_PATH, action, str(sequence)))\n",
    "        except:\n",
    "            pass"
   ]
  },
  {
   "cell_type": "markdown",
   "metadata": {},
   "source": [
    "Captura de los frames, en este caso fotos de la seña que sean importante (4 frames) "
   ]
  },
  {
   "cell_type": "code",
   "execution_count": 36,
   "metadata": {},
   "outputs": [
    {
     "name": "stdout",
     "output_type": "stream",
     "text": [
      "Presiona 'd' para tomar una foto. Presiona 'q' para salir.\n"
     ]
    },
    {
     "name": "stderr",
     "output_type": "stream",
     "text": [
      "I0000 00:00:1723223959.184038   29540 gl_context_egl.cc:85] Successfully initialized EGL. Major : 1 Minor: 5\n",
      "I0000 00:00:1723223959.258827   45862 gl_context.cc:357] GL version: 3.2 (OpenGL ES 3.2 NVIDIA 560.28.03), renderer: NVIDIA GeForce RTX 3050 Laptop GPU/PCIe/SSE2\n",
      "W0000 00:00:1723223959.300855   45850 inference_feedback_manager.cc:114] Feedback manager requires a model with a single signature inference. Disabling support for feedback tensors.\n",
      "W0000 00:00:1723223959.311228   45851 inference_feedback_manager.cc:114] Feedback manager requires a model with a single signature inference. Disabling support for feedback tensors.\n",
      "W0000 00:00:1723223959.311880   45856 inference_feedback_manager.cc:114] Feedback manager requires a model with a single signature inference. Disabling support for feedback tensors.\n",
      "W0000 00:00:1723223959.312107   45861 inference_feedback_manager.cc:114] Feedback manager requires a model with a single signature inference. Disabling support for feedback tensors.\n",
      "W0000 00:00:1723223959.312776   45859 inference_feedback_manager.cc:114] Feedback manager requires a model with a single signature inference. Disabling support for feedback tensors.\n",
      "W0000 00:00:1723223959.316542   45855 inference_feedback_manager.cc:114] Feedback manager requires a model with a single signature inference. Disabling support for feedback tensors.\n",
      "W0000 00:00:1723223959.321957   45852 inference_feedback_manager.cc:114] Feedback manager requires a model with a single signature inference. Disabling support for feedback tensors.\n",
      "W0000 00:00:1723223959.324354   45851 inference_feedback_manager.cc:114] Feedback manager requires a model with a single signature inference. Disabling support for feedback tensors.\n",
      "/home/popetasmixs/anaconda3/envs/sena/lib/python3.9/site-packages/google/protobuf/symbol_database.py:55: UserWarning: SymbolDatabase.GetPrototype() is deprecated. Please use message_factory.GetMessageClass() instead. SymbolDatabase.GetPrototype() will be removed soon.\n",
      "  warnings.warn('SymbolDatabase.GetPrototype() is deprecated. Please '\n"
     ]
    }
   ],
   "source": [
    "import cv2\n",
    "import os\n",
    "import numpy as np\n",
    "import mediapipe as mp\n",
    "\n",
    "# Inicializar la captura de video\n",
    "cap = cv2.VideoCapture(0)\n",
    "\n",
    "# Variables de configuración\n",
    "actions = ['coco', 'manzana']  # Lista de frutas\n",
    "sub_folders = [str(i) for i in range(2)]  # Sub carpetas numeradas de 0 a 1\n",
    "sequence_length = 4  # Número de fotos por secuencia\n",
    "\n",
    "# Crear un diccionario para contar las fotos tomadas en cada secuencia\n",
    "photo_count = {action: {sub_folder: 0 for sub_folder in sub_folders} for action in actions}\n",
    "action_index = 0  # Índice para la fruta actual\n",
    "subfolder_index = 0  # Índice para la sub carpeta actual\n",
    "countdown = sequence_length  # Contador inicial para las fotos\n",
    "\n",
    "print(\"Presiona 'd' para tomar una foto. Presiona 'q' para salir.\")\n",
    "\n",
    "with mp.solutions.holistic.Holistic(min_detection_confidence=0.5, min_tracking_confidence=0.5) as holistic:\n",
    "    while True:\n",
    "        ret, frame = cap.read()\n",
    "        if not ret:\n",
    "            break\n",
    "\n",
    "        # Hacer las detecciones y dibujar los puntos clave\n",
    "        image, results = mediapipe_detection(frame, holistic)\n",
    "        draw_styled_landmarks(image, results)\n",
    "\n",
    "        # Mostrar el video en una ventana\n",
    "        cv2.putText(image, f'Fotos restantes: {countdown}', (10, 50),\n",
    "                    cv2.FONT_HERSHEY_SIMPLEX, 1, (0, 255, 0), 2, cv2.LINE_AA)\n",
    "        cv2.putText(image, f'Carpeta: {actions[action_index]} Sub carpeta: {subfolder_index}', (10, 100),\n",
    "                    cv2.FONT_HERSHEY_SIMPLEX, 1, (0, 255, 0), 2, cv2.LINE_AA)\n",
    "        cv2.imshow('Video', image)\n",
    "\n",
    "        # Esperar a que se presione una tecla\n",
    "        key = cv2.waitKey(1) & 0xFF\n",
    "\n",
    "        if key == ord(\"q\"):\n",
    "            break\n",
    "        elif key == ord('d'):\n",
    "            # Tomar la foto y guardarla en formato JPG\n",
    "            current_action = actions[action_index]\n",
    "            current_subfolder = sub_folders[subfolder_index]\n",
    "            photo_filename = f'{photo_count[current_action][current_subfolder]}.jpg'\n",
    "            photo_path = os.path.join(DATA_PATH, current_action, current_subfolder, photo_filename)\n",
    "            cv2.imwrite(photo_path, image)\n",
    "            photo_count[current_action][current_subfolder] += 1\n",
    "\n",
    "            # Extraer y guardar los puntos clave en formato NPY\n",
    "            keypoints = extract_keypoints(results)\n",
    "            npy_filename = f'{photo_count[current_action][current_subfolder] - 1}.npy'\n",
    "            npy_path = os.path.join(DATA_PATH, current_action, current_subfolder, npy_filename)\n",
    "            np.save(npy_path, keypoints)\n",
    "\n",
    "            # Actualizar el contador y mostrarlo en pantalla\n",
    "            countdown -= 1\n",
    "            cv2.putText(image, f'Foto guardada: {photo_filename}', (10, 150),\n",
    "                        cv2.FONT_HERSHEY_SIMPLEX, 1, (255, 0, 0), 2, cv2.LINE_AA)\n",
    "            cv2.imshow('Video', image)\n",
    "\n",
    "            if countdown == 0:\n",
    "                # Cambiar a la siguiente sub carpeta\n",
    "                subfolder_index += 1\n",
    "                countdown = sequence_length  # Reiniciar el contador\n",
    "\n",
    "                if subfolder_index >= len(sub_folders):\n",
    "                    subfolder_index = 0\n",
    "                    action_index += 1\n",
    "\n",
    "                    if action_index >= len(actions):\n",
    "                        cv2.putText(image, 'Todas las fotos completadas', (10, 200),\n",
    "                                    cv2.FONT_HERSHEY_SIMPLEX, 1, (0, 255, 255), 2, cv2.LINE_AA)\n",
    "                        cv2.imshow('Video', image)\n",
    "                        cv2.waitKey(2000)\n",
    "                        break\n",
    "\n",
    "cap.release()\n",
    "cv2.destroyAllWindows()\n"
   ]
  }
 ],
 "metadata": {
  "kernelspec": {
   "display_name": "myenv",
   "language": "python",
   "name": "python3"
  },
  "language_info": {
   "codemirror_mode": {
    "name": "ipython",
    "version": 3
   },
   "file_extension": ".py",
   "mimetype": "text/x-python",
   "name": "python",
   "nbconvert_exporter": "python",
   "pygments_lexer": "ipython3",
   "version": "3.9.19"
  }
 },
 "nbformat": 4,
 "nbformat_minor": 2
}
